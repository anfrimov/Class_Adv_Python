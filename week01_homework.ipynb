{
 "cells": [
  {
   "cell_type": "markdown",
   "metadata": {},
   "source": [
    "<html><h1>Logistic function in Python 3<img style=\"float: right\" src=\"https://www.download3k.com/icons/Python-224497.png\", width=32, height=32></h1></html>\n",
    "\n",
    "***\n",
    "\n",
    "A **logistic function** or **logistic curve** is a common \"S\" shape ([sigmoid curve](https://en.wikipedia.org/wiki/Sigmoid_function)), with equation:\n",
    "\n",
    "${\\displaystyle f(x)={\\frac {L}{1+e^{-k(x-x_{0})}}}}$\n",
    "\n",
    "where\n",
    "\n",
    "+ $e$ = the natural logarithm base (also known as Euler's number),\n",
    "+ $x_{0}$ = the x-value of the sigmoid's midpoint,\n",
    "+ $L$ = the curve's maximum value, and\n",
    "+ $k$ = the logistic growth rate or steepness of the curve.\n",
    "\n",
    "Here we will be exploring the logistic function's different parameters by implementing it in Python. To do this, we will start by importing *NumPy*, a package for handling arrays and many mathematical functions, and *MatPlotLib* for plotting our results."
   ]
  },
  {
   "cell_type": "code",
   "execution_count": 1,
   "metadata": {},
   "outputs": [],
   "source": [
    "import numpy as np\n",
    "import matplotlib.pyplot as plt"
   ]
  },
  {
   "cell_type": "markdown",
   "metadata": {},
   "source": [
    "### Define the logistic function in Python\n",
    "\n",
    "To begin, we want to define the above mathematical formula in Python's syntax. All of the variables in the logistic function will need to be chosen and passed to the Python function as inputs in order to calculate corresponding $y$ values. The values of $x$ can be saved to a variable called `x`. To help remind us of their effects on the output of the function, we can use the variable names `curve_max` for $L$, `steepness` for $k$, and `midpoint` for $x_{0}$. The value of the constant $e$ can be found with `np.e`. Here is what how the function looks in Python:"
   ]
  },
  {
   "cell_type": "code",
   "execution_count": 2,
   "metadata": {},
   "outputs": [],
   "source": [
    "def logistic_function(x, curve_max, steepness, midpoint):\n",
    "    y = curve_max / (1 + np.e ** -(steepness*(x - midpoint)))\n",
    "    return y"
   ]
  },
  {
   "cell_type": "markdown",
   "metadata": {},
   "source": [
    "### Choosing inputs for the function\n",
    "\n",
    "The first input we will need to define is `x`. `x` can be a single value, such as an `int` or a `float`, but it can also be an array, which is like a list of all the $x$ values we want to calculate ($x_{1}$, $x_{2}$, ... $x_{n}$). The function will generate a corresponding $y$ value for each $x$ in our array. The simplest way to set up our array is to use the `range` function, which generates integers over a given range, then store the output in a *NumPy* array by using the `np.array` function."
   ]
  },
  {
   "cell_type": "code",
   "execution_count": 3,
   "metadata": {},
   "outputs": [
    {
     "name": "stdout",
     "output_type": "stream",
     "text": [
      "[-10  -9  -8  -7  -6  -5  -4  -3  -2  -1   0   1   2   3   4   5   6   7\n",
      "   8   9  10]\n"
     ]
    }
   ],
   "source": [
    "x = np.array(range(-10,11))\n",
    "print(x)"
   ]
  },
  {
   "cell_type": "markdown",
   "metadata": {},
   "source": [
    "Next we should choose values for `curve_max`, `steepness`, and `midpoint`. The easiest values to use are those of the **standard logistic function**, where $L$ = 1, $k$ = 1, and $x_{0}$ = 0. This simplifies the logistic function to: \n",
    "\n",
    "${\\displaystyle f(x)={\\frac {1}{1+e^{-x}}}}$\n",
    "\n",
    "or the Python equivalent:\n",
    "\n",
    "```python\n",
    "y = 1 / (1 + np.e ** -x)\n",
    "```"
   ]
  },
  {
   "cell_type": "code",
   "execution_count": 4,
   "metadata": {},
   "outputs": [
    {
     "name": "stdout",
     "output_type": "stream",
     "text": [
      "L  = 1\n",
      "k  = 1\n",
      "x0 = 0\n"
     ]
    }
   ],
   "source": [
    "curve_max = 1\n",
    "steepness = 1\n",
    "midpoint  = 0\n",
    "\n",
    "print(\"L  =\", curve_max)\n",
    "print(\"k  =\", steepness)\n",
    "print(\"x0 =\", midpoint)"
   ]
  },
  {
   "cell_type": "markdown",
   "metadata": {},
   "source": [
    "### Calculate $y$ values\n",
    "\n",
    "Now that we have chosen values for $x$ and fixed our other variables, we can plug them into our function and save the output, our $y$ values, to a new variable: `y`. "
   ]
  },
  {
   "cell_type": "code",
   "execution_count": 5,
   "metadata": {},
   "outputs": [
    {
     "name": "stdout",
     "output_type": "stream",
     "text": [
      "[4.53978687e-05 1.23394576e-04 3.35350130e-04 9.11051194e-04\n",
      " 2.47262316e-03 6.69285092e-03 1.79862100e-02 4.74258732e-02\n",
      " 1.19202922e-01 2.68941421e-01 5.00000000e-01 7.31058579e-01\n",
      " 8.80797078e-01 9.52574127e-01 9.82013790e-01 9.93307149e-01\n",
      " 9.97527377e-01 9.99088949e-01 9.99664650e-01 9.99876605e-01\n",
      " 9.99954602e-01]\n"
     ]
    }
   ],
   "source": [
    "y = logistic_function(x, curve_max, steepness, midpoint)\n",
    "print(y)"
   ]
  },
  {
   "cell_type": "markdown",
   "metadata": {},
   "source": [
    "### Visualizing the logistic function\n",
    "\n",
    "With our set of $x$ and $y$ values, we can now plot our logistic function using `plt.plot` from the *MatPlotLib* package to see what the function looks like:"
   ]
  },
  {
   "cell_type": "code",
   "execution_count": 6,
   "metadata": {},
   "outputs": [
    {
     "data": {
      "image/png": "[encoded data removed]",
      "text/plain": [
       "<Figure size 432x288 with 1 Axes>"
      ]
     },
     "metadata": {
      "needs_background": "light"
     },
     "output_type": "display_data"
    }
   ],
   "source": [
    "plt.plot(x, y)\n",
    "plt.show()"
   ]
  }
 ],
 "metadata": {
  "kernelspec": {
   "display_name": "Python 3",
   "language": "python",
   "name": "python3"
  },
  "language_info": {
   "codemirror_mode": {
    "name": "ipython",
    "version": 3
   },
   "file_extension": ".py",
   "mimetype": "text/x-python",
   "name": "python",
   "nbconvert_exporter": "python",
   "pygments_lexer": "ipython3",
   "version": "3.7.2"
  }
 },
 "nbformat": 4,
 "nbformat_minor": 2
}
