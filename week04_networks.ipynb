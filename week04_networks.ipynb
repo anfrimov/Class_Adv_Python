{
 "cells": [
  {
   "cell_type": "code",
   "execution_count": 1,
   "metadata": {},
   "outputs": [],
   "source": [
    "from IPython import display"
   ]
  },
  {
   "cell_type": "markdown",
   "metadata": {},
   "source": [
    "# An example of classes\n",
    "\n",
    "We will demonstrate using a new class of object that we have defined ourselves. The example module 'network_array.py' contains two class definitions, each of which defines a class of Python object. Open up the file if you want to see its workings.\n",
    "\n",
    "By convention, class definitions are given capitalized names. These appear at the top of the module's list of contents. Our module defines a `Network` class and a `DirectedNetwork` class."
   ]
  },
  {
   "cell_type": "code",
   "execution_count": 2,
   "metadata": {},
   "outputs": [
    {
     "data": {
      "text/plain": [
       "['DirectedNetwork',\n",
       " 'Network',\n",
       " '__builtins__',\n",
       " '__cached__',\n",
       " '__doc__',\n",
       " '__file__',\n",
       " '__loader__',\n",
       " '__name__',\n",
       " '__package__',\n",
       " '__spec__',\n",
       " 'numpy']"
      ]
     },
     "execution_count": 2,
     "metadata": {},
     "output_type": "execute_result"
    }
   ],
   "source": [
    "import week04_network_array as network\n",
    "dir(network)"
   ]
  },
  {
   "cell_type": "markdown",
   "metadata": {},
   "source": [
    "## Undirected network\n",
    "\n",
    "A class definition typically includes one or more methods for the class. These are defined in the same way as functions, but within the indentation level of the class definition. In addition, the `self` argument to a method represents the object itself, allowing methods to modify the object, like some of the methods for mutable Python objects (e.g. `list.sort()`).\n",
    "\n",
    "If we ask for help with a class, we see both the overall docstring that we wrote for the class, and the docstrings for the methods.\n",
    "\n",
    "Methods quoted in `__ __` are not intended to be called directly. Instead, they define the behavior of objects of our class in specific situations."
   ]
  },
  {
   "cell_type": "code",
   "execution_count": 3,
   "metadata": {},
   "outputs": [
    {
     "name": "stdout",
     "output_type": "stream",
     "text": [
      "Help on class Network in module network_array:\n",
      "\n",
      "class Network(builtins.object)\n",
      " |  Simple representation of a network as an adjacency matrix.\n",
      " |  \n",
      " |  The attribute Network.adjMat stores the matrix as a numpy array.\n",
      " |  \n",
      " |  Add nodes and connections using methods:\n",
      " |  Network.add_node()\n",
      " |  Network.add_connection()\n",
      " |  \n",
      " |  Methods defined here:\n",
      " |  \n",
      " |  __init__(self, nNodes)\n",
      " |      Required arguments:\n",
      " |      nNodes -- int number of nodes in the network\n",
      " |      \n",
      " |      Nodes are initialized without connections.\n",
      " |      Add connections with Network.add_connection().\n",
      " |  \n",
      " |  __repr__(self)\n",
      " |      Show the network's adjacency matrix.\n",
      " |  \n",
      " |  add_connection(self, nodeA, nodeB)\n",
      " |      Add a new connection between nodeA and nodeB.\n",
      " |      \n",
      " |      Required arguments:\n",
      " |      nodeA, nodeB -- int ID numbers of nodes to connect\n",
      " |  \n",
      " |  add_nodes(self, nNodes)\n",
      " |      Add nNodes new nodes to the network.\n",
      " |      \n",
      " |      Required arguments:\n",
      " |      nNodes -- int number of nodes to add to the network\n",
      " |      \n",
      " |      Nodes are initialized without connections.\n",
      " |      Add connections with Network.add_connection().\n",
      " |  \n",
      " |  ----------------------------------------------------------------------\n",
      " |  Data descriptors defined here:\n",
      " |  \n",
      " |  __dict__\n",
      " |      dictionary for instance variables (if defined)\n",
      " |  \n",
      " |  __weakref__\n",
      " |      list of weak references to the object (if defined)\n",
      "\n"
     ]
    }
   ],
   "source": [
    "help(network.Network)"
   ]
  },
  {
   "cell_type": "markdown",
   "metadata": {},
   "source": [
    "Our example class can be used to represent networks of connected nodes. Let's create an instance of the class and use it to represent the simple network of 4 nodes shown [here](https://de.wikipedia.org/wiki/Adjazenzmatrix#/media/File:Ungerichteter_Graph_mit_4_Knoten_und_3_Kanten.svg).\n",
    "\n",
    "The `__init__()` method defines what occurs when we create a new object that is an instance of the class. We do this simply by using the class name as a function. We do not need to pass in the `self` argument; this is done automatically for each method."
   ]
  },
  {
   "cell_type": "code",
   "execution_count": 4,
   "metadata": {},
   "outputs": [],
   "source": [
    "myNetwork = network.Network(4)"
   ]
  },
  {
   "cell_type": "markdown",
   "metadata": {},
   "source": [
    "The `__repr__()` function defines what gets printed out when we print an object of our class. We have defined this function so that the object will be shown as an [adjacency matrix](https://en.wikipedia.org/wiki/Adjacency_matrix), a matrix whose rows and columns represent the nodes of the matrix, and each cell represents the possibility of a connection between those two nodes, with 0 representing no connection, and 1 a connection."
   ]
  },
  {
   "cell_type": "code",
   "execution_count": 5,
   "metadata": {},
   "outputs": [
    {
     "name": "stdout",
     "output_type": "stream",
     "text": [
      "[[0 0 0 0]\n",
      " [0 0 0 0]\n",
      " [0 0 0 0]\n",
      " [0 0 0 0]]\n"
     ]
    }
   ],
   "source": [
    "print(myNetwork)"
   ]
  },
  {
   "cell_type": "markdown",
   "metadata": {},
   "source": [
    "Note that it is possible to use the special methods directly, and the result is equivalent. But this is not how they are intended to be used."
   ]
  },
  {
   "cell_type": "code",
   "execution_count": 6,
   "metadata": {},
   "outputs": [
    {
     "name": "stdout",
     "output_type": "stream",
     "text": [
      "[[0 0 0 0]\n",
      " [0 0 0 0]\n",
      " [0 0 0 0]\n",
      " [0 0 0 0]]\n"
     ]
    }
   ],
   "source": [
    "print(myNetwork.__repr__())"
   ]
  },
  {
   "cell_type": "markdown",
   "metadata": {},
   "source": [
    "We have defined a method `.add_connection()` for adding connections between nodes. Any additional methods that we have defined for our class can be used in the same way as the methods of other Python objects."
   ]
  },
  {
   "cell_type": "code",
   "execution_count": 7,
   "metadata": {},
   "outputs": [
    {
     "name": "stdout",
     "output_type": "stream",
     "text": [
      "[[0 1 0 0]\n",
      " [1 0 1 1]\n",
      " [0 1 0 0]\n",
      " [0 1 0 0]]\n"
     ]
    }
   ],
   "source": [
    "for nodeA, nodeB in [(0,1), (1,2), (1,3)]:\n",
    "    myNetwork.add_connection(nodeA, nodeB)\n",
    "\n",
    "print(myNetwork)"
   ]
  },
  {
   "cell_type": "markdown",
   "metadata": {},
   "source": [
    "## Directed network\n",
    "\n",
    "The adjacency matrix for the network above shows that the network that it represents is *undirected*; the connections are all reciprocal. Each time that we added a connection, the `.add_connection()` method placed a 1 in the adjacency matrix in corresponding positions above and below the diagonal.\n",
    "\n",
    "The second class definition in our example module defines a *directed* network. In such a network, a connection from node A to node B does not necessarily entail the reverse connection from B to A, and the adjacency matrix will not necessarily be reflected about the diagonal.\n",
    "\n",
    "However, apart from this feature, the directed network has a lot in common with the undirected network. In such cases, we can define a new class that 'inherits' from an existing class. The definition of the 'parent' class is used for objects of the 'child' class. We need only define any new methods, or re-write any that should be different. In our simple example, only the `.add_connection()` method differs from the parent `Network` class to the child `DirectedNetwork` class.\n",
    "\n",
    "Let's use it to represent the network of 4 nodes shown [here](https://en.wikipedia.org/wiki/Directed_graph#/media/File:4-tournament.svg)."
   ]
  },
  {
   "cell_type": "code",
   "execution_count": 8,
   "metadata": {},
   "outputs": [
    {
     "name": "stdout",
     "output_type": "stream",
     "text": [
      "[[0 1 0 1]\n",
      " [0 0 0 1]\n",
      " [1 1 0 0]\n",
      " [0 0 1 0]]\n"
     ]
    }
   ],
   "source": [
    "myDirNetwork = network.DirectedNetwork(4)\n",
    "\n",
    "for nodeA, nodeB in [(0,1), (0,3), (1,3), (2,0), (2,1), (3,2)]:\n",
    "    myDirNetwork.add_connection(nodeA, nodeB)\n",
    "\n",
    "print(myDirNetwork)"
   ]
  },
  {
   "cell_type": "markdown",
   "metadata": {},
   "source": [
    "## pygraphviz\n",
    "\n",
    "There are in fact existing Python packages for representing and querying networks. The two most widely-used are [`networkx`](https://networkx.github.io/) and [`pygraphviz`](https://pygraphviz.github.io/), and each has its advantages and disadvantages. `pygraphviz` is intended mainly for visualizing networks.\n",
    "\n",
    "Here is an example of its use to represent the first example network above."
   ]
  },
  {
   "cell_type": "code",
   "execution_count": 9,
   "metadata": {},
   "outputs": [
    {
     "data": {
      "image/png": "[encoded data removed]",
      "text/plain": [
       "<IPython.core.display.Image object>"
      ]
     },
     "execution_count": 9,
     "metadata": {},
     "output_type": "execute_result"
    }
   ],
   "source": [
    "import pygraphviz as pgv\n",
    "\n",
    "myNetwork = pgv.AGraph()\n",
    "for nodeA, nodeB in [(0,1), (1,2), (1,3)]:\n",
    "    myNetwork.add_edge(nodeA, nodeB)\n",
    "\n",
    "img = myNetwork.draw(format='png', prog='dot')\n",
    "display.Image(img)"
   ]
  },
  {
   "cell_type": "markdown",
   "metadata": {},
   "source": [
    "Our example module uses `numpy` arrays to represent the network objects in adjacency matrices. Neither `networkx` nor `pygraphviz` uses adjacency matrices as the main data type. Instead, they use a mixture of dictionaries and other data types. An array adjacency matrix is good for some kinds of calculations involving networks, whereas dictionaries are better for others."
   ]
  }
 ],
 "metadata": {
  "kernelspec": {
   "display_name": "Python 3",
   "language": "python",
   "name": "python3"
  },
  "language_info": {
   "codemirror_mode": {
    "name": "ipython",
    "version": 3
   },
   "file_extension": ".py",
   "mimetype": "text/x-python",
   "name": "python",
   "nbconvert_exporter": "python",
   "pygments_lexer": "ipython3",
   "version": "3.7.2"
  }
 },
 "nbformat": 4,
 "nbformat_minor": 2
}
