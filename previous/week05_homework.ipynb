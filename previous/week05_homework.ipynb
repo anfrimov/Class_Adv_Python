{
 "cells": [
  {
   "cell_type": "markdown",
   "metadata": {},
   "source": [
    "# Week 05 Homework - Corrupt Researcher\n",
    "### Can knowledge and communication stop corruption?\n",
    "Here is a small challenge. In a research community (e.g., uni faculty, conferences) consisting of researchers (e.g., professors, etc), every researcher knows each other. There are good researchers and a corrupt one. Each researcher knows about some other researchers and whether each of them is good or corrupt, but s/he doesn't know whether her/himself is corrupt or not. One day, a queen who has the power to know everything about all communities, came to the research community and told that \"there is one corrupt researcher in this community. You should not exchange with each other what you already know about the corruption. I ask any of you to leave in the midnight of the day once you know that yourself is corrupt.\"\n",
    "- Question: how many days will it take to get rid of the corrupt researcher? in what condition? How many possible answers? Can the community get rid of the corrupt one at all? If not, what is academia pursuing?\n",
    "- Related: https://www.researchgate.net/post/Which_is_more_important_for_a_good_professor_citations_ethics_or_morals\n",
    "\n",
    "Version 2: In a committee of $n$ researchers, each researcher interacts with exactly $k$ other researchers each day and finds out whether any of the $k$ is corrupt. The researcher then gossips the new finding with 1 other researcher on that day. Note that the corrupt research can also gossip, but his/her message can be true/wrong each time. If the queen comes and tells that there is one corrupt researcher, can the committee spot it out? how many days? if there is no such queen, can the committee still find it out?"
   ]
  },
  {
   "cell_type": "markdown",
   "metadata": {},
   "source": [
    "### A few undefined parameters:\n",
    "\n",
    "1. Is $k$ fixed for all researchers and all days, or can $k$ change every day, or differ between researchers?\n",
    "1. Number of corrupt researchers?\n",
    "1. Gossip\n",
    "    1. Exactly what information is shared during a gossip? Possibilities:\n",
    "        1. Whether or not one of $k$ is corrupt.\n",
    "        1. Which researchers are included in $k$?\n",
    "        1. Exactly which encountered researchers, $k_i$, are corrupt or not?\n",
    "    1. What does a true/false piece of gossip (from a corrupt researcher) look like for each of the previously stated cases?\n",
    "    1. One or two-way information travel?\n",
    "    1. Is all knowledge shared or only daily knowledge?   "
   ]
  },
  {
   "cell_type": "code",
   "execution_count": 1,
   "metadata": {},
   "outputs": [],
   "source": [
    "import numpy as np"
   ]
  },
  {
   "cell_type": "code",
   "execution_count": 2,
   "metadata": {},
   "outputs": [],
   "source": [
    "class researcher:\n",
    "    \"\"\"\n",
    "    Researcher object\n",
    "    Methods:\n",
    "        interact(), gossip()\n",
    "    Initialized with the folloiwng inputs:\n",
    "        ident (int): researcher's identity number\n",
    "        corrupt (bool): whether or not researcher is corrupt\n",
    "    \"\"\"\n",
    "    \n",
    "    def __init__(self, ident, corrupt):    \n",
    "        self.ident = ident\n",
    "        self.corrupt = corrupt\n",
    "        self.contacts = set()\n",
    "        self.known_corrupt = set()\n",
    "        self.known_no_corrupt = set()\n",
    "        self.known_corrupt_self = False\n",
    "        self.day = 0\n",
    "        \n",
    "    def interact(self, others):\n",
    "        \"\"\"\n",
    "        Input:\n",
    "            others (list): list of researcher objects the current\n",
    "                researcher interactions with\n",
    "        \"\"\"\n",
    "        idents = set([other.ident for other in others])\n",
    "        self.today = idents\n",
    "        self.today_corrupt = False\n",
    "        \n",
    "        for other in others:\n",
    "            self.contacts.add(other.ident)\n",
    "            if other.corrupt:\n",
    "                self.today_corrupt = True\n",
    "                self.known_corrupt.add(other.ident)\n",
    "            else:\n",
    "                self.known_no_corrupt.add(other.ident)\n",
    "\n",
    "        \n",
    "    def gossip(self, other):\n",
    "        \"\"\"\n",
    "        Input:\n",
    "            other (researcher): who the researcher gossips with\n",
    "        \"\"\"\n",
    "        self.today_gossip = other.ident\n",
    "        if not self.today_corrupt:\n",
    "            other.known_no_corrupt.update(self.today)\n",
    "            #other.contacts.update(self.today)\n",
    "        "
   ]
  },
  {
   "cell_type": "code",
   "execution_count": 120,
   "metadata": {},
   "outputs": [],
   "source": [
    "class institute:\n",
    "    \n",
    "    def __init__(self, n, nCorrupt=False):\n",
    "        self.n = n\n",
    "        if not nCorrupt:\n",
    "            nCorrupt = np.random.randint(n+1)\n",
    "        self.nCorrupt = nCorrupt\n",
    "        self.nCorrupt0 = nCorrupt\n",
    "        self.day = 0\n",
    "        self.all_contacts_made = False\n",
    "        self.all_contacts_made_day = -1\n",
    "        self.no_corruption_day = -1\n",
    "        \n",
    "        self.corrupt = set()\n",
    "        everyone = set(range(n))\n",
    "        for i in range(nCorrupt):\n",
    "            who = np.random.choice(list(everyone))\n",
    "            self.corrupt.add(who)\n",
    "            everyone.discard(who)\n",
    "        \n",
    "        self.researchers = []\n",
    "        for i in range(n):\n",
    "            if i in self.corrupt:\n",
    "                self.researchers.append(researcher(i, True))\n",
    "            else:\n",
    "                self.researchers.append(researcher(i, False))\n",
    "                \n",
    "    def daily_interact(self,all_researchers):\n",
    "        for r in range(len(self.researchers)):\n",
    "            researcher = self.researchers[r]\n",
    "            researcher.day += 1\n",
    "            \n",
    "            interactors = all_researchers.copy()\n",
    "            interactors.remove(r)\n",
    "            \n",
    "            interactions = set()\n",
    "            k = np.random.randint(1, self.n-1)\n",
    "            for i in range(k):\n",
    "                who = np.random.choice(list(interactors))\n",
    "                interactions.add(who)\n",
    "                interactors.remove(who)\n",
    "                \n",
    "            researcher.interact([self.researchers[i] for i in interactions])\n",
    "            \n",
    "    def daily_gossip(self,all_researchers):\n",
    "        for r in range(len(self.researchers)):\n",
    "            researcher = self.researchers[r]\n",
    "            gossipers = all_researchers.copy()\n",
    "            gossipers.remove(r)\n",
    "            gossipers.difference_update(researcher.today)\n",
    "            \n",
    "            who = np.random.choice(list(gossipers))\n",
    "            researcher.gossip(self.researchers[who])\n",
    "            \n",
    "    def all_contacts_made_check(self):\n",
    "        if not self.all_contacts_made:\n",
    "            self.all_contacts_made = True\n",
    "            for r in self.researchers:\n",
    "                if len(r.contacts) < self.n - 1:\n",
    "                    self.all_contacts_made = False\n",
    "                    break\n",
    "            if self.all_contacts_made:\n",
    "                self.all_contacts_made_day = self.day\n",
    "        return self.all_contacts_made\n",
    "                \n",
    "    def leave_if_corrupt(self):\n",
    "        if self.nCorrupt > 0:\n",
    "            days_since_contacts_made = self.day - self.all_contacts_made_day\n",
    "            for r in range(len(self.researchers)):\n",
    "                if days_since_contacts_made == len(self.researchers[r].known_corrupt):\n",
    "                    del self.researchers[r]\n",
    "            self.nCorrupt = 0\n",
    "            for r in range(len(self.researchers)):\n",
    "                if self.researchers[r].corrupt:\n",
    "                    self.nCorrupt += 1\n",
    "            if self.nCorrupt == 0:\n",
    "                self.no_corruption_day = self.day\n",
    "            self.n = len(self.researchers)\n",
    "            \n",
    "    def daily_routine(self):\n",
    "        all_researchers = set(range(len(self.researchers)))\n",
    "        self.day += 1\n",
    "        \n",
    "        self.daily_interact(all_researchers)\n",
    "        self.daily_gossip(all_researchers)\n",
    "        all_contacts_made = self.all_contacts_made_check()\n",
    "        if all_contacts_made:\n",
    "            self.leave_if_corrupt()"
   ]
  },
  {
   "cell_type": "code",
   "execution_count": 71,
   "metadata": {},
   "outputs": [
    {
     "name": "stdout",
     "output_type": "stream",
     "text": [
      "5\n"
     ]
    },
    {
     "ename": "ValueError",
     "evalue": "Range cannot be empty (low >= high) unless no samples are taken",
     "output_type": "error",
     "traceback": [
      "\u001b[0;31m---------------------------------------------------------------------------\u001b[0m",
      "\u001b[0;31mValueError\u001b[0m                                Traceback (most recent call last)",
      "\u001b[0;32m<ipython-input-71-bfb35ef8efb2>\u001b[0m in \u001b[0;36m<module>\u001b[0;34m\u001b[0m\n\u001b[1;32m      4\u001b[0m \u001b[0;34m\u001b[0m\u001b[0m\n\u001b[1;32m      5\u001b[0m \u001b[0;32mwhile\u001b[0m \u001b[0muniversity\u001b[0m\u001b[0;34m.\u001b[0m\u001b[0mno_corruption_day\u001b[0m \u001b[0;34m==\u001b[0m \u001b[0;34m-\u001b[0m\u001b[0;36m1\u001b[0m\u001b[0;34m:\u001b[0m\u001b[0;34m\u001b[0m\u001b[0;34m\u001b[0m\u001b[0m\n\u001b[0;32m----> 6\u001b[0;31m     \u001b[0muniversity\u001b[0m\u001b[0;34m.\u001b[0m\u001b[0mdaily_routine\u001b[0m\u001b[0;34m(\u001b[0m\u001b[0;34m)\u001b[0m\u001b[0;34m\u001b[0m\u001b[0;34m\u001b[0m\u001b[0m\n\u001b[0m\u001b[1;32m      7\u001b[0m \u001b[0;34m\u001b[0m\u001b[0m\n\u001b[1;32m      8\u001b[0m \u001b[0mprint\u001b[0m\u001b[0;34m(\u001b[0m\u001b[0muniversity\u001b[0m\u001b[0;34m.\u001b[0m\u001b[0mnCorrupt\u001b[0m\u001b[0;34m,\u001b[0m \u001b[0muniversity\u001b[0m\u001b[0;34m.\u001b[0m\u001b[0mall_contacts_made_day\u001b[0m\u001b[0;34m,\u001b[0m \u001b[0muniversity\u001b[0m\u001b[0;34m.\u001b[0m\u001b[0mno_corruption_day\u001b[0m\u001b[0;34m)\u001b[0m\u001b[0;34m\u001b[0m\u001b[0;34m\u001b[0m\u001b[0m\n",
      "\u001b[0;32m<ipython-input-70-d51e542da2a5>\u001b[0m in \u001b[0;36mdaily_routine\u001b[0;34m(self)\u001b[0m\n\u001b[1;32m     82\u001b[0m         \u001b[0mself\u001b[0m\u001b[0;34m.\u001b[0m\u001b[0mday\u001b[0m \u001b[0;34m+=\u001b[0m \u001b[0;36m1\u001b[0m\u001b[0;34m\u001b[0m\u001b[0;34m\u001b[0m\u001b[0m\n\u001b[1;32m     83\u001b[0m \u001b[0;34m\u001b[0m\u001b[0m\n\u001b[0;32m---> 84\u001b[0;31m         \u001b[0mself\u001b[0m\u001b[0;34m.\u001b[0m\u001b[0mdaily_interact\u001b[0m\u001b[0;34m(\u001b[0m\u001b[0mall_researchers\u001b[0m\u001b[0;34m)\u001b[0m\u001b[0;34m\u001b[0m\u001b[0;34m\u001b[0m\u001b[0m\n\u001b[0m\u001b[1;32m     85\u001b[0m         \u001b[0mself\u001b[0m\u001b[0;34m.\u001b[0m\u001b[0mdaily_gossip\u001b[0m\u001b[0;34m(\u001b[0m\u001b[0mall_researchers\u001b[0m\u001b[0;34m)\u001b[0m\u001b[0;34m\u001b[0m\u001b[0;34m\u001b[0m\u001b[0m\n\u001b[1;32m     86\u001b[0m         \u001b[0mall_contacts_made\u001b[0m \u001b[0;34m=\u001b[0m \u001b[0mself\u001b[0m\u001b[0;34m.\u001b[0m\u001b[0mall_contacts_made_check\u001b[0m\u001b[0;34m(\u001b[0m\u001b[0;34m)\u001b[0m\u001b[0;34m\u001b[0m\u001b[0;34m\u001b[0m\u001b[0m\n",
      "\u001b[0;32m<ipython-input-70-d51e542da2a5>\u001b[0m in \u001b[0;36mdaily_interact\u001b[0;34m(self, all_researchers)\u001b[0m\n\u001b[1;32m     35\u001b[0m \u001b[0;34m\u001b[0m\u001b[0m\n\u001b[1;32m     36\u001b[0m             \u001b[0minteractions\u001b[0m \u001b[0;34m=\u001b[0m \u001b[0mset\u001b[0m\u001b[0;34m(\u001b[0m\u001b[0;34m)\u001b[0m\u001b[0;34m\u001b[0m\u001b[0;34m\u001b[0m\u001b[0m\n\u001b[0;32m---> 37\u001b[0;31m             \u001b[0mk\u001b[0m \u001b[0;34m=\u001b[0m \u001b[0mnp\u001b[0m\u001b[0;34m.\u001b[0m\u001b[0mrandom\u001b[0m\u001b[0;34m.\u001b[0m\u001b[0mrandint\u001b[0m\u001b[0;34m(\u001b[0m\u001b[0;36m1\u001b[0m\u001b[0;34m,\u001b[0m \u001b[0mself\u001b[0m\u001b[0;34m.\u001b[0m\u001b[0mn\u001b[0m\u001b[0;34m-\u001b[0m\u001b[0;36m1\u001b[0m\u001b[0;34m)\u001b[0m\u001b[0;34m\u001b[0m\u001b[0;34m\u001b[0m\u001b[0m\n\u001b[0m\u001b[1;32m     38\u001b[0m             \u001b[0;32mfor\u001b[0m \u001b[0mi\u001b[0m \u001b[0;32min\u001b[0m \u001b[0mrange\u001b[0m\u001b[0;34m(\u001b[0m\u001b[0mk\u001b[0m\u001b[0;34m)\u001b[0m\u001b[0;34m:\u001b[0m\u001b[0;34m\u001b[0m\u001b[0;34m\u001b[0m\u001b[0m\n\u001b[1;32m     39\u001b[0m                 \u001b[0mwho\u001b[0m \u001b[0;34m=\u001b[0m \u001b[0mnp\u001b[0m\u001b[0;34m.\u001b[0m\u001b[0mrandom\u001b[0m\u001b[0;34m.\u001b[0m\u001b[0mchoice\u001b[0m\u001b[0;34m(\u001b[0m\u001b[0mlist\u001b[0m\u001b[0;34m(\u001b[0m\u001b[0minteractors\u001b[0m\u001b[0;34m)\u001b[0m\u001b[0;34m)\u001b[0m\u001b[0;34m\u001b[0m\u001b[0;34m\u001b[0m\u001b[0m\n",
      "\u001b[0;32mmtrand.pyx\u001b[0m in \u001b[0;36mmtrand.RandomState.randint\u001b[0;34m()\u001b[0m\n",
      "\u001b[0;31mValueError\u001b[0m: Range cannot be empty (low >= high) unless no samples are taken"
     ]
    }
   ],
   "source": [
    "university = institute(5)\n",
    "\n",
    "print(university.nCorrupt)\n",
    "\n",
    "while university.no_corruption_day == -1:\n",
    "    university.daily_routine()\n",
    "\n",
    "print(university.nCorrupt, university.all_contacts_made_day, university.no_corruption_day)\n",
    "print(university.nCorrupt0, university.no_corruption_day - university.all_contacts_made_day)"
   ]
  },
  {
   "cell_type": "code",
   "execution_count": 121,
   "metadata": {},
   "outputs": [],
   "source": [
    "university = institute(5)\n",
    "\n",
    "#day = 0\n",
    "#go_on = True\n",
    "#while go_on == True:\n",
    "#    go_on = False\n",
    "#    for r in university.researchers:\n",
    "#        if len(r.contacts) < university.n - 1:\n",
    "#            go_on = True\n",
    "#            break\n",
    "#    university.daily_routine()\n",
    "#    day += 1"
   ]
  },
  {
   "cell_type": "code",
   "execution_count": 134,
   "metadata": {},
   "outputs": [
    {
     "ename": "IndexError",
     "evalue": "list index out of range",
     "output_type": "error",
     "traceback": [
      "\u001b[0;31m---------------------------------------------------------------------------\u001b[0m",
      "\u001b[0;31mIndexError\u001b[0m                                Traceback (most recent call last)",
      "\u001b[0;32m<ipython-input-134-1cbc653d8936>\u001b[0m in \u001b[0;36m<module>\u001b[0;34m\u001b[0m\n\u001b[0;32m----> 1\u001b[0;31m \u001b[0muniversity\u001b[0m\u001b[0;34m.\u001b[0m\u001b[0mdaily_routine\u001b[0m\u001b[0;34m(\u001b[0m\u001b[0;34m)\u001b[0m\u001b[0;34m\u001b[0m\u001b[0;34m\u001b[0m\u001b[0m\n\u001b[0m\u001b[1;32m      2\u001b[0m \u001b[0mprint\u001b[0m\u001b[0;34m(\u001b[0m\u001b[0;34m'Day = '\u001b[0m\u001b[0;34m,\u001b[0m\u001b[0muniversity\u001b[0m\u001b[0;34m.\u001b[0m\u001b[0mday\u001b[0m\u001b[0;34m,\u001b[0m\u001b[0muniversity\u001b[0m\u001b[0;34m.\u001b[0m\u001b[0mall_contacts_made_day\u001b[0m\u001b[0;34m,\u001b[0m\u001b[0;34m'\\n'\u001b[0m\u001b[0;34m)\u001b[0m\u001b[0;34m\u001b[0m\u001b[0;34m\u001b[0m\u001b[0m\n\u001b[1;32m      3\u001b[0m \u001b[0;32mfor\u001b[0m \u001b[0mr\u001b[0m \u001b[0;32min\u001b[0m \u001b[0muniversity\u001b[0m\u001b[0;34m.\u001b[0m\u001b[0mresearchers\u001b[0m\u001b[0;34m:\u001b[0m\u001b[0;34m\u001b[0m\u001b[0;34m\u001b[0m\u001b[0m\n\u001b[1;32m      4\u001b[0m     \u001b[0mprint\u001b[0m\u001b[0;34m(\u001b[0m\u001b[0;34m'identity: '\u001b[0m\u001b[0;34m,\u001b[0m\u001b[0mr\u001b[0m\u001b[0;34m.\u001b[0m\u001b[0mident\u001b[0m\u001b[0;34m)\u001b[0m\u001b[0;34m\u001b[0m\u001b[0;34m\u001b[0m\u001b[0m\n\u001b[1;32m      5\u001b[0m     \u001b[0mprint\u001b[0m\u001b[0;34m(\u001b[0m\u001b[0;34m'corrupt: '\u001b[0m\u001b[0;34m,\u001b[0m\u001b[0mr\u001b[0m\u001b[0;34m.\u001b[0m\u001b[0mcorrupt\u001b[0m\u001b[0;34m)\u001b[0m\u001b[0;34m\u001b[0m\u001b[0;34m\u001b[0m\u001b[0m\n",
      "\u001b[0;32m<ipython-input-120-00b37951fd99>\u001b[0m in \u001b[0;36mdaily_routine\u001b[0;34m(self)\u001b[0m\n\u001b[1;32m     86\u001b[0m         \u001b[0mall_contacts_made\u001b[0m \u001b[0;34m=\u001b[0m \u001b[0mself\u001b[0m\u001b[0;34m.\u001b[0m\u001b[0mall_contacts_made_check\u001b[0m\u001b[0;34m(\u001b[0m\u001b[0;34m)\u001b[0m\u001b[0;34m\u001b[0m\u001b[0;34m\u001b[0m\u001b[0m\n\u001b[1;32m     87\u001b[0m         \u001b[0;32mif\u001b[0m \u001b[0mall_contacts_made\u001b[0m\u001b[0;34m:\u001b[0m\u001b[0;34m\u001b[0m\u001b[0;34m\u001b[0m\u001b[0m\n\u001b[0;32m---> 88\u001b[0;31m             \u001b[0mself\u001b[0m\u001b[0;34m.\u001b[0m\u001b[0mleave_if_corrupt\u001b[0m\u001b[0;34m(\u001b[0m\u001b[0;34m)\u001b[0m\u001b[0;34m\u001b[0m\u001b[0;34m\u001b[0m\u001b[0m\n\u001b[0m",
      "\u001b[0;32m<ipython-input-120-00b37951fd99>\u001b[0m in \u001b[0;36mleave_if_corrupt\u001b[0;34m(self)\u001b[0m\n\u001b[1;32m     68\u001b[0m             \u001b[0mdays_since_contacts_made\u001b[0m \u001b[0;34m=\u001b[0m \u001b[0mself\u001b[0m\u001b[0;34m.\u001b[0m\u001b[0mday\u001b[0m \u001b[0;34m-\u001b[0m \u001b[0mself\u001b[0m\u001b[0;34m.\u001b[0m\u001b[0mall_contacts_made_day\u001b[0m\u001b[0;34m\u001b[0m\u001b[0;34m\u001b[0m\u001b[0m\n\u001b[1;32m     69\u001b[0m             \u001b[0;32mfor\u001b[0m \u001b[0mr\u001b[0m \u001b[0;32min\u001b[0m \u001b[0mrange\u001b[0m\u001b[0;34m(\u001b[0m\u001b[0mlen\u001b[0m\u001b[0;34m(\u001b[0m\u001b[0mself\u001b[0m\u001b[0;34m.\u001b[0m\u001b[0mresearchers\u001b[0m\u001b[0;34m)\u001b[0m\u001b[0;34m)\u001b[0m\u001b[0;34m:\u001b[0m\u001b[0;34m\u001b[0m\u001b[0;34m\u001b[0m\u001b[0m\n\u001b[0;32m---> 70\u001b[0;31m                 \u001b[0;32mif\u001b[0m \u001b[0mdays_since_contacts_made\u001b[0m \u001b[0;34m==\u001b[0m \u001b[0mlen\u001b[0m\u001b[0;34m(\u001b[0m\u001b[0mself\u001b[0m\u001b[0;34m.\u001b[0m\u001b[0mresearchers\u001b[0m\u001b[0;34m[\u001b[0m\u001b[0mr\u001b[0m\u001b[0;34m]\u001b[0m\u001b[0;34m.\u001b[0m\u001b[0mknown_corrupt\u001b[0m\u001b[0;34m)\u001b[0m\u001b[0;34m:\u001b[0m\u001b[0;34m\u001b[0m\u001b[0;34m\u001b[0m\u001b[0m\n\u001b[0m\u001b[1;32m     71\u001b[0m                     \u001b[0;32mdel\u001b[0m \u001b[0mself\u001b[0m\u001b[0;34m.\u001b[0m\u001b[0mresearchers\u001b[0m\u001b[0;34m[\u001b[0m\u001b[0mr\u001b[0m\u001b[0;34m]\u001b[0m\u001b[0;34m\u001b[0m\u001b[0;34m\u001b[0m\u001b[0m\n\u001b[1;32m     72\u001b[0m             \u001b[0mself\u001b[0m\u001b[0;34m.\u001b[0m\u001b[0mnCorrupt\u001b[0m \u001b[0;34m=\u001b[0m \u001b[0;36m0\u001b[0m\u001b[0;34m\u001b[0m\u001b[0;34m\u001b[0m\u001b[0m\n",
      "\u001b[0;31mIndexError\u001b[0m: list index out of range"
     ]
    }
   ],
   "source": [
    "university.daily_routine()\n",
    "print('Day = ',university.day,university.all_contacts_made_day,'\\n')\n",
    "for r in university.researchers:\n",
    "    print('identity: ',r.ident)\n",
    "    print('corrupt: ',r.corrupt)\n",
    "    print('contacts: ',r.contacts)\n",
    "    print('known_corrupt: ',r.known_corrupt)\n",
    "    print('known_no_corrupt: ',r.known_no_corrupt)\n",
    "    print('today: ',r.today)\n",
    "    print('today_corrupt: ',r.today_corrupt)\n",
    "    print('today_gossip: ',r.today_gossip)\n",
    "    print('\\n')"
   ]
  },
  {
   "cell_type": "code",
   "execution_count": 69,
   "metadata": {},
   "outputs": [
    {
     "data": {
      "text/plain": [
       "[<__main__.researcher at 0x120c22780>]"
      ]
     },
     "execution_count": 69,
     "metadata": {},
     "output_type": "execute_result"
    }
   ],
   "source": [
    "university.researchers"
   ]
  }
 ],
 "metadata": {
  "kernelspec": {
   "display_name": "Python 3",
   "language": "python",
   "name": "python3"
  },
  "language_info": {
   "codemirror_mode": {
    "name": "ipython",
    "version": 3
   },
   "file_extension": ".py",
   "mimetype": "text/x-python",
   "name": "python",
   "nbconvert_exporter": "python",
   "pygments_lexer": "ipython3",
   "version": "3.7.2"
  }
 },
 "nbformat": 4,
 "nbformat_minor": 2
}
